{
 "cells": [
  {
   "cell_type": "code",
   "execution_count": 1,
   "id": "0dfbd2b5-7163-481e-8b8c-d3d782faed4e",
   "metadata": {},
   "outputs": [],
   "source": [
    "from ipywidgets import interact, interactive, fixed, interact_manual\n",
    "import ipywidgets as widgets"
   ]
  },
  {
   "cell_type": "code",
   "execution_count": 2,
   "id": "df99b700",
   "metadata": {
    "editable": true,
    "slideshow": {
     "slide_type": ""
    },
    "tags": []
   },
   "outputs": [],
   "source": [
    "def beta(point_type, k, l, x):\n",
    "    if point_type == 1:\n",
    "        return 0\n",
    "    \n",
    "    if point_type == 2:\n",
    "        if k == 1:\n",
    "            if l == 1:\n",
    "                return 0.5\n",
    "        if k == 0:\n",
    "            if l == 2:\n",
    "                return 0.5      "
   ]
  },
  {
   "cell_type": "code",
   "execution_count": 3,
   "id": "645086ba",
   "metadata": {},
   "outputs": [],
   "source": [
    "def a(v):\n",
    "    l = np.sum(np.abs(v))\n",
    "    if l == 1:\n",
    "        return 0.5\n",
    "    if l == 2:\n",
    "        return 0.25"
   ]
  },
  {
   "cell_type": "code",
   "execution_count": 4,
   "id": "9e3cb874",
   "metadata": {},
   "outputs": [],
   "source": [
    "def get_elements_probas(p, point_tree_dict, mu, kappa, beta, a):\n",
    "    elements = [\n",
    "        'die',\n",
    "        '(1, 1)',\n",
    "        '(0, 2)',\n",
    "        'x + (0, 1)',\n",
    "        'x + (1, 0)',\n",
    "        'x + (1, 1)',\n",
    "        'x + (2, 0)',\n",
    "        'x + (0, 2)',\n",
    "        'x + (0, -1)',\n",
    "        'x + (-1, 0)',\n",
    "        'x + (-1, -1)',\n",
    "        'x + (-2, 0)',\n",
    "        'x + (0, -2)'\n",
    "    ]\n",
    "\n",
    "    probas = [\n",
    "        mu[p.point_type],\n",
    "        beta(p, 1, 1, point_tree_dict),\n",
    "        beta(p, 0, 2, point_tree_dict),\n",
    "        a([0, 1]),\n",
    "        a([1, 0]),\n",
    "        a([1, 1]),\n",
    "        a([2, 0]),\n",
    "        a([0, 2]),\n",
    "        a([0, -1]),\n",
    "        a([-1, 0]),\n",
    "        a([-1, -1]),\n",
    "        a([-2, 0]),\n",
    "        a([0, -2])\n",
    "    ]\n",
    "    \n",
    "    return elements, probas / np.sum(probas)"
   ]
  },
  {
   "cell_type": "code",
   "execution_count": 5,
   "id": "bf0c6263",
   "metadata": {},
   "outputs": [],
   "source": [
    "class Point():\n",
    "    def __init__(self, point_type, x, t_1, t_2):\n",
    "        self.point_type = point_type\n",
    "        self.x = x\n",
    "        self.t_1 = t_1\n",
    "        self.t_2 = t_2\n",
    "        \n",
    "    def shifted(self, v, dt):\n",
    "        v = np.array(v)\n",
    "        return Point(self.point_type, self.x + v, self.t_2, self.t_2 + dt)\n",
    "    \n",
    "    def __str__(self):\n",
    "        return '{} {} {} {} {}'.format(self.point_type, self.x[0], self.x[1], self.t_1, self.t_2)"
   ]
  },
  {
   "cell_type": "code",
   "execution_count": 6,
   "id": "345d4a5c",
   "metadata": {},
   "outputs": [],
   "source": [
    "def init_points_2d(size):\n",
    "    R = []\n",
    "    \n",
    "    for i in range(-size, size, 1):\n",
    "        for j in range(-size, size, 1):\n",
    "            R.append(Point(1, np.array([i, j]), 0, 0))\n",
    "            R.append(Point(2, np.array([i, j]), 0, 0))              \n",
    "            \n",
    "    return R"
   ]
  },
  {
   "cell_type": "code",
   "execution_count": 21,
   "id": "dc6f5d5c",
   "metadata": {},
   "outputs": [],
   "source": [
    "def get_x_str(x):\n",
    "    return str((int(x[0]), int(x[1])))\n",
    "\n",
    "def append_to_point_tree_dict(point_tree_dict, p):\n",
    "    x_str = get_x_str(p.x)\n",
    "    if x_str not in point_tree_dict:\n",
    "        point_tree_dict[x_str] = [IntervalTree(), IntervalTree()]\n",
    "    point_tree_dict[x_str][p.point_type - 1].append(Interval(p.t_1, p.t_2, 1))\n",
    "\n",
    "\n",
    "def append_points(R, k, l, p, dt, point_tree_dict, noise_std):\n",
    "    for i in range(k):\n",
    "        coord_noise = np.random.normal(0, noise_std, 2)\n",
    "        p = Point(1, p.x + coord_noise, p.t_2, p.t_2 + dt)\n",
    "        R.append(p)\n",
    "        append_to_point_tree_dict(point_tree_dict, p)\n",
    "        \n",
    "    for i in range(l):\n",
    "        coord_noise = np.random.normal(0, noise_std, 2)\n",
    "        p = Point(2, p.x + coord_noise, p.t_2, p.t_2 + dt)\n",
    "        R.append(p)\n",
    "        append_to_point_tree_dict(point_tree_dict, p)\n",
    "\n",
    "\n",
    "def step(R, H, dt, idx, point_tree_dict, mu, kappa, beta, a, noise_std):\n",
    "    p = R[idx]\n",
    "    \n",
    "    elements, probas = get_elements_probas(p, point_tree_dict, mu, kappa, beta, a)\n",
    "    \n",
    "    action = np.random.choice(a=elements, p=probas, size=1)[0]\n",
    "    \n",
    "    coord_noise = np.random.normal(0, noise_std, 2)\n",
    "    \n",
    "    if action[0:3] == 'x +':\n",
    "        shift = [int(s) for s in action[4:].replace(')', '').replace('(', '').split(', ')]\n",
    "\n",
    "        shifted = p.shifted(shift + coord_noise, dt)\n",
    "        R.append(shifted)\n",
    "        append_to_point_tree_dict(point_tree_dict, shifted)\n",
    "        \n",
    "    elif action[0] == '(':\n",
    "        num_childs = [int(s) for s in action.replace(')', '').replace('(', '').split(', ')]\n",
    "        \n",
    "        append_points(R, num_childs[0], num_childs[1], p, dt, point_tree_dict, noise_std)\n",
    "    \n",
    "        \n",
    "    H.append(p)\n",
    "    del R[idx]"
   ]
  },
  {
   "cell_type": "code",
   "execution_count": 22,
   "id": "a985cc5c",
   "metadata": {},
   "outputs": [],
   "source": [
    "def simulate(R, H, T, mu, kappa, beta, a, noise_std, max_steps=10000):\n",
    "    k = 0\n",
    "\n",
    "    point_tree_dict = {}\n",
    "\n",
    "    for x, point_type in [(str((int(p.x[0]), int(p.x[1]))), p.point_type) for p in R]:\n",
    "        if x in point_tree_dict:\n",
    "            point_tree_dict[x][point_type - 1].append(Interval(0, 0.0001, 1))\n",
    "        else:\n",
    "            point_tree_dict[x] = [IntervalTree(), IntervalTree()]\n",
    "    \n",
    "    pbar = tqdm(total=max_steps, position=0, leave=True)\n",
    "    while k < max_steps:\n",
    "        i = 0\n",
    "        idx = 0\n",
    "        found = 0\n",
    "        \n",
    "        while 1:\n",
    "            if len(R) == 0:\n",
    "                break\n",
    "\n",
    "            idx = np.random.randint(len(R))\n",
    "\n",
    "            if R[idx].t_2 < T:\n",
    "                found = 1\n",
    "                break\n",
    "            if i >= len(R):\n",
    "                break\n",
    "            \n",
    "            i += 1\n",
    "        \n",
    "        if len(R) == 0:\n",
    "            return\n",
    "        \n",
    "        if found != 1:\n",
    "            return\n",
    "        \n",
    "        dt = np.random.exponential()\n",
    "        step(R, H, dt, idx, point_tree_dict, mu, kappa, beta, a, noise_std)\n",
    "        \n",
    "        k += 1\n",
    "        pbar.update(1)\n",
    "\n",
    "    return R, H"
   ]
  },
  {
   "cell_type": "code",
   "execution_count": 23,
   "id": "65b850a3-241d-4e2b-9587-f15835101bbe",
   "metadata": {},
   "outputs": [],
   "source": [
    "def get_max_t(all_points):\n",
    "    max_t = 0\n",
    "    for p in all_points:\n",
    "        if p.t_2 > max_t:\n",
    "            max_t = p.t_2\n",
    "    \n",
    "    return max_t\n",
    "\n",
    "def get_min_coords(all_points):\n",
    "    min_x = min_y = max_x = max_y = 0\n",
    "    for point in all_points:\n",
    "        if point.x[0] < min_x:\n",
    "            min_x = point.x[0]\n",
    "        if point.x[1] < min_y:\n",
    "            min_y = point.x[1]\n",
    "        if point.x[0] > max_x:\n",
    "            max_x = point.x[0]\n",
    "        if point.x[1] > max_y:\n",
    "            max_y = point.x[1]\n",
    "\n",
    "    return (min_x, min_y, max_x, max_y)"
   ]
  },
  {
   "cell_type": "code",
   "execution_count": 24,
   "id": "ace60819-ec23-4d99-a464-0256b07fcf04",
   "metadata": {},
   "outputs": [],
   "source": [
    "from intervaltree import Interval, IntervalTree\n",
    "\n",
    "def build_interval_tree(points):\n",
    "    interval_tree = IntervalTree()\n",
    "    \n",
    "    for i in tqdm(range(len(points)), position=0, leave=True):\n",
    "        p = points[i]\n",
    "        if p.t_1 + p.t_2 > 0:\n",
    "            interval_tree.add(Interval(p.t_1, p.t_2, i))\n",
    "\n",
    "    return interval_tree"
   ]
  },
  {
   "cell_type": "code",
   "execution_count": 25,
   "id": "27985b2d-a342-4e85-9b5c-27ea04dbc836",
   "metadata": {},
   "outputs": [],
   "source": [
    "def plot_points(t, points, interval_tree, xlim, ylim):\n",
    "    coords = [[], []]\n",
    "    \n",
    "    idx = list(map(lambda i: i.data, interval_tree.at(t)))\n",
    "    \n",
    "    points_t = points[idx]\n",
    "    \n",
    "    \n",
    "    color_dict = {\n",
    "        1: 'C0',\n",
    "        2: 'C1'\n",
    "    }\n",
    "    \n",
    "    label_dict = {\n",
    "        'C0': 'Men',\n",
    "        'C1': 'Women'\n",
    "    }\n",
    "    \n",
    "    x_y = np.array(list(map(lambda p: p.x, points_t)))\n",
    "    \n",
    "    labels = np.array(list(map(lambda p: color_dict[p.point_type], points_t)))\n",
    "\n",
    "    n_mens = np.sum(labels == 'C0')\n",
    "    n_womens = np.sum(labels == 'C1')\n",
    "    \n",
    "    if len(x_y) > 0:\n",
    "        \n",
    "        fig, ax = plt.subplots()\n",
    "        \n",
    "        for color in ['C0', 'C1']:   \n",
    "            ax.scatter([], [], c=color, label=label_dict[color])\n",
    "        \n",
    "        ax.scatter(x_y.T[0], x_y.T[1], c=labels, alpha=0.5)\n",
    "        plt.grid()\n",
    "        plt.legend()\n",
    "        plt.suptitle('Mens: {}; Womens: {}'.format(n_mens, n_womens))\n",
    "        plt.xlim(xlim)\n",
    "        plt.ylim(ylim)\n",
    "        plt.show()\n",
    "\n",
    "        "
   ]
  },
  {
   "cell_type": "code",
   "execution_count": 26,
   "id": "0cd66cda-842c-4066-b4e7-d95cbace7ab6",
   "metadata": {},
   "outputs": [],
   "source": [
    "def plot_points_interactive(points, T):\n",
    "    interval_tree = build_interval_tree(points)\n",
    "\n",
    "    max_t = get_max_t(points) - 0.01\n",
    "    min_x, min_y, max_x, max_y = get_min_coords(points)\n",
    "\n",
    "    interact(lambda t: plot_points(t, points, interval_tree, [min_x, max_x], [min_y, max_y]), t=(0, min(max_t, T)))"
   ]
  },
  {
   "cell_type": "code",
   "execution_count": 27,
   "id": "1424144f-832b-4bdd-a470-3bba28d5cb61",
   "metadata": {},
   "outputs": [],
   "source": [
    "def run_simulation(mu = np.array([-1, 0.02, 0.02]), \n",
    "                   kappa = np.array([-1, 0.1, 0.1]),\n",
    "                   size = 20,\n",
    "                   noise_std = 0.01,\n",
    "                   beta = beta,\n",
    "                   a = a,\n",
    "                   init_points=init_points_2d,\n",
    "                   max_steps=5000000,\n",
    "                   T=500, plot=True):\n",
    "\n",
    "    R = init_points(size)\n",
    "    H = []\n",
    "\n",
    "    simulate(R, H, T, mu, kappa, beta, a, noise_std, max_steps)\n",
    "\n",
    "    all_points = np.array(R + H)\n",
    "\n",
    "    if plot:\n",
    "        plot_points_interactive(all_points, T)\n",
    "    \n",
    "    return all_points\n",
    "    "
   ]
  },
  {
   "cell_type": "code",
   "execution_count": 28,
   "id": "df34c044-7a49-4053-9e19-89116dc16833",
   "metadata": {},
   "outputs": [],
   "source": [
    "def save_simulation(points, file_nm):\n",
    "    point_types = [p.point_type for p in points]\n",
    "    x_1 = [p.x[0] for p in points]\n",
    "    x_2 = [p.x[1] for p in points]\n",
    "    t_1 = [p.t_1 for p in points]\n",
    "    t_2 = [p.t_2 for p in points]\n",
    "\n",
    "    df = pd.DataFrame(data={\n",
    "        'point_type': point_types,\n",
    "        'x_1': x_1,\n",
    "        'x_2': x_2,\n",
    "        't_1': t_1,\n",
    "        't_2': t_2\n",
    "    })\n",
    "\n",
    "    df.to_csv(file_nm + '.csv', index=False)\n",
    "\n",
    "\n",
    "def load_simulation(file_nm, T=2000):\n",
    "    df = pd.read_csv(file_nm + '.csv')\n",
    "\n",
    "    all_points = df.apply(lambda row: Point(row.point_type,\n",
    "                                           np.array([row.x_1, row.x_2]),\n",
    "                                           row.t_1,\n",
    "                                           row.t_2), axis=1)\n",
    "    plot_points_interactive(all_points, T)\n",
    "\n",
    "    return all_points\n"
   ]
  },
  {
   "cell_type": "markdown",
   "id": "60c7db72-30a3-4a86-9732-905f11b28a81",
   "metadata": {},
   "source": [
    "# Дает потомство только в 0 $(b_0 = b_2) $"
   ]
  },
  {
   "cell_type": "code",
   "execution_count": 29,
   "id": "3d4715fe-ae55-464f-b7a6-0d4735827e90",
   "metadata": {},
   "outputs": [],
   "source": [
    "def beta(p, k, l, point_tree_dict):\n",
    "    if p.point_type == 1:\n",
    "        return 0\n",
    "    \n",
    "    if p.point_type == 2 and p.x[0] == 0 and p.x[1] == 0:\n",
    "        if k == 1:\n",
    "            if l == 1:\n",
    "                return 0.5\n",
    "        if k == 0:\n",
    "            if l == 2:\n",
    "                return 0.5      \n",
    "    else:\n",
    "        return 0"
   ]
  },
  {
   "cell_type": "code",
   "execution_count": 30,
   "id": "4def0b9c-d9a7-4361-b6d3-a6b975a6ce25",
   "metadata": {},
   "outputs": [
    {
     "name": "stderr",
     "output_type": "stream",
     "text": [
      "  1%|▍                               | 65758/5000000 [00:03<04:54, 16742.10it/s]\n"
     ]
    }
   ],
   "source": [
    "all_points = run_simulation(\n",
    "    mu = np.array([-1, 0.1, 1]),\n",
    "    max_steps=5000000,\n",
    "    T=2000,\n",
    "    beta=beta,\n",
    "    plot=False\n",
    ")"
   ]
  },
  {
   "cell_type": "code",
   "execution_count": 31,
   "id": "bd190592-b10f-463c-9076-636ea4f10c4a",
   "metadata": {},
   "outputs": [],
   "source": [
    "save_simulation(all_points, 'simulations/branching_only_at_zero')"
   ]
  },
  {
   "cell_type": "code",
   "execution_count": 32,
   "id": "475dd9d1-51aa-4899-bbd1-27751ba6a70d",
   "metadata": {},
   "outputs": [
    {
     "name": "stderr",
     "output_type": "stream",
     "text": [
      "100%|█████████████████████████████████| 65758/65758 [00:00<00:00, 124574.27it/s]\n"
     ]
    },
    {
     "data": {
      "application/vnd.jupyter.widget-view+json": {
       "model_id": "e19dab178e6848af85a8043a288b240e",
       "version_major": 2,
       "version_minor": 0
      },
      "text/plain": [
       "interactive(children=(FloatSlider(value=136.40945162059356, description='t', max=272.8189032411871), Output())…"
      ]
     },
     "metadata": {},
     "output_type": "display_data"
    }
   ],
   "source": [
    "all_points = load_simulation('simulations/branching_only_at_zero', T=2000)"
   ]
  },
  {
   "cell_type": "markdown",
   "id": "3dc79b74-f0c7-4e38-919c-2b22f8bb44b9",
   "metadata": {},
   "source": [
    "# Дает потомство в любой точке $(b_0 = b_2) $"
   ]
  },
  {
   "cell_type": "code",
   "execution_count": 33,
   "id": "4a381257-999b-457a-9286-910505329306",
   "metadata": {},
   "outputs": [],
   "source": [
    "def beta(p, k, l, point_tree_dict):\n",
    "    if p.point_type == 1:\n",
    "        return 0\n",
    "    \n",
    "    if p.point_type == 2:\n",
    "        if k == 1:\n",
    "            if l == 1:\n",
    "                return 0.5\n",
    "        if k == 0:\n",
    "            if l == 2:\n",
    "                return 0.5      \n",
    "    else:\n",
    "        return 0"
   ]
  },
  {
   "cell_type": "code",
   "execution_count": 34,
   "id": "c9993de2-d404-4da7-9434-eac5ca2eaf48",
   "metadata": {},
   "outputs": [
    {
     "name": "stderr",
     "output_type": "stream",
     "text": [
      "  3%|▊                              | 136145/5000000 [00:08<04:52, 16617.27it/s]\n"
     ]
    }
   ],
   "source": [
    "all_points = run_simulation(\n",
    "    mu = np.array([-1, 0.1, 1]),\n",
    "    max_steps=5000000,\n",
    "    T=2000,\n",
    "    beta=beta,\n",
    "    plot=False\n",
    ")"
   ]
  },
  {
   "cell_type": "code",
   "execution_count": 35,
   "id": "5457db62-d133-4da1-aa26-56befad08f19",
   "metadata": {},
   "outputs": [],
   "source": [
    "save_simulation(all_points, 'simulations/branching_everywhere')"
   ]
  },
  {
   "cell_type": "code",
   "execution_count": 36,
   "id": "54486ce0-51e9-4170-bece-6950723472bd",
   "metadata": {},
   "outputs": [
    {
     "name": "stderr",
     "output_type": "stream",
     "text": [
      "100%|███████████████████████████████| 136145/136145 [00:01<00:00, 116558.58it/s]\n"
     ]
    },
    {
     "data": {
      "application/vnd.jupyter.widget-view+json": {
       "model_id": "4e7c5a1d55f344d3afd057e93f2922f3",
       "version_major": 2,
       "version_minor": 0
      },
      "text/plain": [
       "interactive(children=(FloatSlider(value=180.5507342715461, description='t', max=361.1014685430922), Output()),…"
      ]
     },
     "metadata": {},
     "output_type": "display_data"
    }
   ],
   "source": [
    "all_points = load_simulation('simulations/branching_everywhere', T=2000)"
   ]
  },
  {
   "cell_type": "markdown",
   "id": "12ca1a1b-733c-442b-a674-0ff2bf22fed0",
   "metadata": {},
   "source": [
    "# Взаимодействие\n",
    "$$ \\beta(k, l, t, x) = \\frac{1}{k + l} \\cdot (1 - e^{-min(N_1(t, x), N_2(t, x))}), \\space \\space k + l = 2 $$\n",
    "<br>\n",
    "$\\beta(k, l, t, x)$ - интенсивность женской частицы, находящейся в момент времени $t$ в точке $x$, породить $k$ мужских и $l$ женских частиц \n",
    "<br>\n",
    "$N_1(t, x)$ - кол-во мужских частиц в момент времени $t$ в точке $x$\n",
    "<br>\n",
    "$N_2(t, x)$ - кол-во женских частиц в момент времени $t$ в точке $x$"
   ]
  },
  {
   "cell_type": "code",
   "execution_count": 37,
   "id": "9eb2f85b-00f5-4c2d-8b02-465d6c29b32e",
   "metadata": {},
   "outputs": [],
   "source": [
    "import math\n",
    "\n",
    "def beta(p, k, l, point_tree_dict):\n",
    "    if p.point_type == 1:\n",
    "        return 0\n",
    "\n",
    "    x_str = get_x_str(p.x)\n",
    "\n",
    "    N_1 = N_2 = 0\n",
    "    if x_str in point_tree_dict:\n",
    "        N_1 = np.sum(list(map(lambda i: i.data, point_tree_dict[x_str][0].at(p.t_1))))\n",
    "        N_2 = np.sum(list(map(lambda i: i.data, point_tree_dict[x_str][1].at(p.t_1))))\n",
    "\n",
    "    c = 1 - math.exp(-np.min([N_1, N_2]))\n",
    "    res = 0\n",
    "    \n",
    "    if p.point_type == 2:\n",
    "        if k == 1:\n",
    "            if l == 1:\n",
    "                res = 0.5\n",
    "        if k == 0:\n",
    "            if l == 2:\n",
    "                res = 0.5     \n",
    "\n",
    "    return res * c"
   ]
  },
  {
   "cell_type": "code",
   "execution_count": 50,
   "id": "5fa432b5-7484-44f5-9dae-183449693ae1",
   "metadata": {},
   "outputs": [
    {
     "name": "stderr",
     "output_type": "stream",
     "text": [
      "  2%|▌                               | 87695/5000000 [00:05<05:13, 15651.39it/s]\n"
     ]
    }
   ],
   "source": [
    "all_points = run_simulation(\n",
    "    mu = np.array([-1, 0.1, 0.6]),\n",
    "    max_steps=5000000,\n",
    "    T=2000,\n",
    "    beta=beta,\n",
    "    plot=False\n",
    ")"
   ]
  },
  {
   "cell_type": "code",
   "execution_count": 51,
   "id": "86f58ff2-fc32-4e5c-8dba-567ffe9adc14",
   "metadata": {},
   "outputs": [],
   "source": [
    "save_simulation(all_points, 'simulations/branching_interactive_06')"
   ]
  },
  {
   "cell_type": "code",
   "execution_count": 52,
   "id": "91237202-10a9-450c-ba63-fed443407de0",
   "metadata": {},
   "outputs": [
    {
     "name": "stderr",
     "output_type": "stream",
     "text": [
      "100%|█████████████████████████████████| 87695/87695 [00:00<00:00, 118538.03it/s]\n"
     ]
    },
    {
     "data": {
      "application/vnd.jupyter.widget-view+json": {
       "model_id": "5bd81e1d2e464e4391a47dccf526aa74",
       "version_major": 2,
       "version_minor": 0
      },
      "text/plain": [
       "interactive(children=(FloatSlider(value=154.6838711235727, description='t', max=309.3677422471454), Output()),…"
      ]
     },
     "metadata": {},
     "output_type": "display_data"
    },
    {
     "data": {
      "text/plain": [
       "0                                     1.0 13.0 5.0 0.0 0.0\n",
       "1                                   2.0 14.0 -20.0 0.0 0.0\n",
       "2                                    1.0 -12.0 8.0 0.0 0.0\n",
       "3                                   1.0 12.0 -18.0 0.0 0.0\n",
       "4                                   1.0 -8.0 -10.0 0.0 0.0\n",
       "                               ...                        \n",
       "87690    1.0 -2.910794598013407 1.0802782926050416 305....\n",
       "87691    1.0 -3.915450025759919 1.0955608708818547 306....\n",
       "87692    1.0 -2.908547689301072 1.098522487371211 307.5...\n",
       "87693    1.0 -1.896124696440924 1.1155140325560509 308....\n",
       "87694    1.0 -2.9101404780604563 0.1228252733796843 309...\n",
       "Length: 87695, dtype: object"
      ]
     },
     "execution_count": 52,
     "metadata": {},
     "output_type": "execute_result"
    }
   ],
   "source": [
    "load_simulation('simulations/branching_interactive_06')"
   ]
  },
  {
   "cell_type": "code",
   "execution_count": 68,
   "id": "6abc4d37-5655-4796-91d5-49128a226ebb",
   "metadata": {},
   "outputs": [
    {
     "name": "stderr",
     "output_type": "stream",
     "text": [
      "  1%|▏                              | 62716/10000000 [02:46<7:20:54, 375.64it/s]\n",
      " 34%|█████████▌                  | 6864260/20000000 [26:40<1:26:37, 2527.45it/s]"
     ]
    },
    {
     "ename": "KeyboardInterrupt",
     "evalue": "",
     "output_type": "error",
     "traceback": [
      "\u001b[0;31m---------------------------------------------------------------------------\u001b[0m",
      "\u001b[0;31mKeyboardInterrupt\u001b[0m                         Traceback (most recent call last)",
      "Cell \u001b[0;32mIn[68], line 1\u001b[0m\n\u001b[0;32m----> 1\u001b[0m all_points \u001b[38;5;241m=\u001b[39m \u001b[43mrun_simulation\u001b[49m\u001b[43m(\u001b[49m\n\u001b[1;32m      2\u001b[0m \u001b[43m    \u001b[49m\u001b[43mmu\u001b[49m\u001b[43m \u001b[49m\u001b[38;5;241;43m=\u001b[39;49m\u001b[43m \u001b[49m\u001b[43mnp\u001b[49m\u001b[38;5;241;43m.\u001b[39;49m\u001b[43marray\u001b[49m\u001b[43m(\u001b[49m\u001b[43m[\u001b[49m\u001b[38;5;241;43m-\u001b[39;49m\u001b[38;5;241;43m1\u001b[39;49m\u001b[43m,\u001b[49m\u001b[43m \u001b[49m\u001b[38;5;241;43m0.1\u001b[39;49m\u001b[43m,\u001b[49m\u001b[43m \u001b[49m\u001b[38;5;241;43m0.1\u001b[39;49m\u001b[43m]\u001b[49m\u001b[43m)\u001b[49m\u001b[43m,\u001b[49m\n\u001b[1;32m      3\u001b[0m \u001b[43m    \u001b[49m\u001b[43mmax_steps\u001b[49m\u001b[38;5;241;43m=\u001b[39;49m\u001b[38;5;241;43m20000000\u001b[39;49m\u001b[43m,\u001b[49m\n\u001b[1;32m      4\u001b[0m \u001b[43m    \u001b[49m\u001b[43mT\u001b[49m\u001b[38;5;241;43m=\u001b[39;49m\u001b[38;5;241;43m2000\u001b[39;49m\u001b[43m,\u001b[49m\n\u001b[1;32m      5\u001b[0m \u001b[43m    \u001b[49m\u001b[43mbeta\u001b[49m\u001b[38;5;241;43m=\u001b[39;49m\u001b[43mbeta\u001b[49m\u001b[43m,\u001b[49m\n\u001b[1;32m      6\u001b[0m \u001b[43m    \u001b[49m\u001b[43mplot\u001b[49m\u001b[38;5;241;43m=\u001b[39;49m\u001b[38;5;28;43;01mFalse\u001b[39;49;00m\n\u001b[1;32m      7\u001b[0m \u001b[43m)\u001b[49m\n",
      "Cell \u001b[0;32mIn[27], line 14\u001b[0m, in \u001b[0;36mrun_simulation\u001b[0;34m(mu, kappa, size, noise_std, beta, a, init_points, max_steps, T, plot)\u001b[0m\n\u001b[1;32m     11\u001b[0m R \u001b[38;5;241m=\u001b[39m init_points(size)\n\u001b[1;32m     12\u001b[0m H \u001b[38;5;241m=\u001b[39m []\n\u001b[0;32m---> 14\u001b[0m \u001b[43msimulate\u001b[49m\u001b[43m(\u001b[49m\u001b[43mR\u001b[49m\u001b[43m,\u001b[49m\u001b[43m \u001b[49m\u001b[43mH\u001b[49m\u001b[43m,\u001b[49m\u001b[43m \u001b[49m\u001b[43mT\u001b[49m\u001b[43m,\u001b[49m\u001b[43m \u001b[49m\u001b[43mmu\u001b[49m\u001b[43m,\u001b[49m\u001b[43m \u001b[49m\u001b[43mkappa\u001b[49m\u001b[43m,\u001b[49m\u001b[43m \u001b[49m\u001b[43mbeta\u001b[49m\u001b[43m,\u001b[49m\u001b[43m \u001b[49m\u001b[43ma\u001b[49m\u001b[43m,\u001b[49m\u001b[43m \u001b[49m\u001b[43mnoise_std\u001b[49m\u001b[43m,\u001b[49m\u001b[43m \u001b[49m\u001b[43mmax_steps\u001b[49m\u001b[43m)\u001b[49m\n\u001b[1;32m     16\u001b[0m all_points \u001b[38;5;241m=\u001b[39m np\u001b[38;5;241m.\u001b[39marray(R \u001b[38;5;241m+\u001b[39m H)\n\u001b[1;32m     18\u001b[0m \u001b[38;5;28;01mif\u001b[39;00m plot:\n",
      "Cell \u001b[0;32mIn[22], line 39\u001b[0m, in \u001b[0;36msimulate\u001b[0;34m(R, H, T, mu, kappa, beta, a, noise_std, max_steps)\u001b[0m\n\u001b[1;32m     36\u001b[0m     \u001b[38;5;28;01mreturn\u001b[39;00m\n\u001b[1;32m     38\u001b[0m dt \u001b[38;5;241m=\u001b[39m np\u001b[38;5;241m.\u001b[39mrandom\u001b[38;5;241m.\u001b[39mexponential()\n\u001b[0;32m---> 39\u001b[0m \u001b[43mstep\u001b[49m\u001b[43m(\u001b[49m\u001b[43mR\u001b[49m\u001b[43m,\u001b[49m\u001b[43m \u001b[49m\u001b[43mH\u001b[49m\u001b[43m,\u001b[49m\u001b[43m \u001b[49m\u001b[43mdt\u001b[49m\u001b[43m,\u001b[49m\u001b[43m \u001b[49m\u001b[43midx\u001b[49m\u001b[43m,\u001b[49m\u001b[43m \u001b[49m\u001b[43mpoint_tree_dict\u001b[49m\u001b[43m,\u001b[49m\u001b[43m \u001b[49m\u001b[43mmu\u001b[49m\u001b[43m,\u001b[49m\u001b[43m \u001b[49m\u001b[43mkappa\u001b[49m\u001b[43m,\u001b[49m\u001b[43m \u001b[49m\u001b[43mbeta\u001b[49m\u001b[43m,\u001b[49m\u001b[43m \u001b[49m\u001b[43ma\u001b[49m\u001b[43m,\u001b[49m\u001b[43m \u001b[49m\u001b[43mnoise_std\u001b[49m\u001b[43m)\u001b[49m\n\u001b[1;32m     41\u001b[0m k \u001b[38;5;241m+\u001b[39m\u001b[38;5;241m=\u001b[39m \u001b[38;5;241m1\u001b[39m\n\u001b[1;32m     42\u001b[0m pbar\u001b[38;5;241m.\u001b[39mupdate(\u001b[38;5;241m1\u001b[39m)\n",
      "Cell \u001b[0;32mIn[21], line 48\u001b[0m, in \u001b[0;36mstep\u001b[0;34m(R, H, dt, idx, point_tree_dict, mu, kappa, beta, a, noise_std)\u001b[0m\n\u001b[1;32m     44\u001b[0m     append_points(R, num_childs[\u001b[38;5;241m0\u001b[39m], num_childs[\u001b[38;5;241m1\u001b[39m], p, dt, point_tree_dict, noise_std)\n\u001b[1;32m     47\u001b[0m H\u001b[38;5;241m.\u001b[39mappend(p)\n\u001b[0;32m---> 48\u001b[0m \u001b[38;5;28;01mdel\u001b[39;00m R[idx]\n",
      "\u001b[0;31mKeyboardInterrupt\u001b[0m: "
     ]
    }
   ],
   "source": [
    "all_points = run_simulation(\n",
    "    mu = np.array([-1, 0.1, 0.1]),\n",
    "    max_steps=20000000,\n",
    "    T=2000,\n",
    "    beta=beta,\n",
    "    plot=False\n",
    ")"
   ]
  },
  {
   "cell_type": "code",
   "execution_count": null,
   "id": "cf8d6dbd-3748-49e9-9082-4ac6fabf7296",
   "metadata": {},
   "outputs": [],
   "source": [
    "save_simulation(all_points, 'simulations/branching_interactive_01')"
   ]
  },
  {
   "cell_type": "code",
   "execution_count": null,
   "id": "82e9ecfc-acb0-4d40-be8e-fc4a4f3ce714",
   "metadata": {},
   "outputs": [
    {
     "name": "stderr",
     "output_type": "stream",
     "text": [
      " 34%|█████████▌                  | 6864484/20000000 [26:55<1:26:37, 2527.45it/s]"
     ]
    }
   ],
   "source": [
    "load_simulation('simulations/branching_interactive_01')"
   ]
  },
  {
   "cell_type": "code",
   "execution_count": null,
   "id": "8ba82b35-b053-43c1-8173-2e0b23914c18",
   "metadata": {},
   "outputs": [],
   "source": []
  },
  {
   "cell_type": "code",
   "execution_count": null,
   "id": "b7743881-cc58-48d9-a3af-672ce3da92c9",
   "metadata": {},
   "outputs": [],
   "source": []
  },
  {
   "cell_type": "code",
   "execution_count": null,
   "id": "f285ddfd-47a0-43d8-a453-41972f9d9f53",
   "metadata": {},
   "outputs": [],
   "source": []
  },
  {
   "cell_type": "code",
   "execution_count": null,
   "id": "7ff7ce76-4042-4015-8a43-11a4ce1909fe",
   "metadata": {},
   "outputs": [],
   "source": []
  },
  {
   "cell_type": "code",
   "execution_count": null,
   "id": "4cb407cc-a446-4b80-9088-b4fad773bbf3",
   "metadata": {},
   "outputs": [],
   "source": []
  },
  {
   "cell_type": "code",
   "execution_count": null,
   "id": "cb64c4fb-ba31-4526-a5b3-8cc145f2bcb2",
   "metadata": {},
   "outputs": [],
   "source": []
  },
  {
   "cell_type": "code",
   "execution_count": null,
   "id": "c6b4d2ed-65cc-40e4-92c0-d3ec96b6bd08",
   "metadata": {},
   "outputs": [],
   "source": []
  },
  {
   "cell_type": "code",
   "execution_count": null,
   "id": "60423d93-3abe-43ff-a1ee-778f0201a456",
   "metadata": {},
   "outputs": [],
   "source": []
  },
  {
   "cell_type": "code",
   "execution_count": null,
   "id": "48793be0-0e5f-4dc1-8931-c7d10d89dfe5",
   "metadata": {},
   "outputs": [],
   "source": []
  },
  {
   "cell_type": "code",
   "execution_count": null,
   "id": "d572ed89-5daa-43e5-8474-30e8e5605dba",
   "metadata": {},
   "outputs": [],
   "source": []
  },
  {
   "cell_type": "code",
   "execution_count": null,
   "id": "1cf3158d-4c12-47d0-9fa5-739fb2e1caa0",
   "metadata": {},
   "outputs": [],
   "source": []
  }
 ],
 "metadata": {
  "kernelspec": {
   "display_name": "Python 3 (ipykernel)",
   "language": "python",
   "name": "python3"
  },
  "language_info": {
   "codemirror_mode": {
    "name": "ipython",
    "version": 3
   },
   "file_extension": ".py",
   "mimetype": "text/x-python",
   "name": "python",
   "nbconvert_exporter": "python",
   "pygments_lexer": "ipython3",
   "version": "3.8.18"
  }
 },
 "nbformat": 4,
 "nbformat_minor": 5
}
